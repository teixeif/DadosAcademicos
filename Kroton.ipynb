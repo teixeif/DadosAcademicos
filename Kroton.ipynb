{
 "cells": [
  {
   "cell_type": "markdown",
   "metadata": {},
   "source": [
    "# Bibliotecas utilizadas:\n",
    "### scikit-learn: Machine Learning in Python\n",
    "### csv: CSV File Reading and Writing\n",
    "### numpy: package for scientific computing\n",
    "### matplotlib: Python 2D plotting library"
   ]
  },
  {
   "cell_type": "code",
   "execution_count": 1,
   "metadata": {},
   "outputs": [],
   "source": [
    "#Import Library of Gaussian Naive Bayes model\n",
    "from sklearn.naive_bayes import GaussianNB, MultinomialNB, BernoulliNB\n",
    "from sklearn.neighbors import KNeighborsClassifier\n",
    "from sklearn.svm import LinearSVC\n",
    "from sklearn.model_selection import train_test_split\n",
    "from sklearn.metrics import accuracy_score\n",
    "import csv\n",
    "import numpy as np\n",
    "import matplotlib.pyplot as plt"
   ]
  },
  {
   "cell_type": "markdown",
   "metadata": {},
   "source": [
    "# Leitura do CSV\n",
    "\n",
    "### Leitura do CSV e seleção das colunas que serão utilizadas no modelo.\n",
    "### Variáveis selecionadas: Numéricas. Correlações e distribuições precisam ser exploradas em todas as variáveis.\n",
    "### Definição da variável alvo: Número de semestres planejados para o curso X Número de semestres realizados pelo aluno (No prazo ou Atrasado)\n",
    "### Variáveis sócio-econômicas poderiam melhorar o desempenho do Classificador.\n",
    "### Variáveis relacionadas ao desempenho acadêmico do aluno durante o curso poderiam melhorar a acurácia do Classificador.\n",
    "### Variáveis: melhorar análise, pois definirá a escolha do Classificador.\n",
    "### Variáveis que individualizam os alunos não foram selecionadas (Exemplo: COD_ALUNO)."
   ]
  },
  {
   "cell_type": "code",
   "execution_count": 2,
   "metadata": {},
   "outputs": [],
   "source": [
    "def readCSV(file):\n",
    "    arrayAlunos = []\n",
    "    with open(file, 'rt', encoding=\"ansi\") as csvfile:\n",
    "        csvfile = csv.reader(csvfile, delimiter=';', quotechar='\"')        \n",
    "        next(csvfile)\n",
    "        for row in csvfile:\n",
    "            try:\n",
    "                arrayAlunos.append([\n",
    "                                int(row[1].strip()),  #COD_UNIDADE                                \n",
    "                                int(row[8].strip()),  #CEP_ALUNO\n",
    "                                int(row[9].strip()),  #COD_CURSO\n",
    "                                int(row[11].strip()), #TURNO_CURSO \n",
    "                                int(row[12].strip()), #DURACAO_CURSO \n",
    "                                int(row[16].strip()), #CH_TOTAL_MATRIZ\n",
    "                                int(row[17].strip()), #NR_TOTAL_DISCIPLINAS\n",
    "                                int(row[18].strip()), #CH_APROVADA\n",
    "                                int(row[19].strip()), #NR_DISC_APROVADA\n",
    "                                int(row[20].strip()), #T_IDADE\n",
    "                                float(row[21].strip().replace(',', '.')), #NOTA                                \n",
    "                                int(row[24].strip()), #NRO_REPRO_ACO\n",
    "                                int(row[25].strip()), #NRO_TOTAL_REPRO\n",
    "                                int(row[26].strip()), #NRO_REPRO_NORMAL\n",
    "                                int(row[28].strip()), #POSSUI_FIES\n",
    "                                int(row[35].strip()) #LABEL (Terminou no prazo = 1, Terminou fora do prazo = 0)\n",
    "                               ])          \n",
    "            except:\n",
    "                erro = 'Valor incorreto'\n",
    "                \n",
    "    return arrayAlunos"
   ]
  },
  {
   "cell_type": "markdown",
   "metadata": {},
   "source": [
    "### Função responsável pela criação de 2 Arrays pareados: Features e Labels"
   ]
  },
  {
   "cell_type": "code",
   "execution_count": 3,
   "metadata": {},
   "outputs": [],
   "source": [
    "def createVector(array):\n",
    "    label = []\n",
    "    features = []\n",
    "    \n",
    "    for i in array:\n",
    "        label.append(i[15])\n",
    "        \n",
    "    for i in array:\n",
    "        features.append(i[0:14])\n",
    "    \n",
    "    return label, features\n",
    "    "
   ]
  },
  {
   "cell_type": "markdown",
   "metadata": {},
   "source": [
    "### Criação do Vetor de características "
   ]
  },
  {
   "cell_type": "code",
   "execution_count": 4,
   "metadata": {},
   "outputs": [],
   "source": [
    "array = readCSV(\"case_Formatura.csv\")\n",
    "\n",
    "label, features = createVector(array)\n",
    "\n",
    "x = np.array(features)\n",
    "y = np.array(label)"
   ]
  },
  {
   "cell_type": "markdown",
   "metadata": {},
   "source": [
    "## Escolha do Classificador\n",
    "### 5 Classificadores testados: probabilísticos e lineares"
   ]
  },
  {
   "cell_type": "code",
   "execution_count": 5,
   "metadata": {},
   "outputs": [],
   "source": [
    "model = GaussianNB()\n",
    "modelMN = MultinomialNB()\n",
    "modelB = BernoulliNB()\n",
    "neigh = KNeighborsClassifier(n_neighbors=5)\n",
    "svm = LinearSVC(random_state=0)"
   ]
  },
  {
   "cell_type": "markdown",
   "metadata": {},
   "source": [
    "# Divisão da base: Treino e Teste\n",
    "### A Estratégia utilizada dividiu a base em Treino (77%) e Teste (33%). Outras divisões podem ser utilizadas: Leave-OneOut, Cross-Validation (K-Fold).\n",
    "### Execução do Classificador: desempenho foi medido por meio da acurácia, mas podemos avaliar outras medidas: Precisão, Revocação, Sensibilidade, Especificidade e F-measure."
   ]
  },
  {
   "cell_type": "markdown",
   "metadata": {},
   "source": [
    "# Classificador GaussianNB"
   ]
  },
  {
   "cell_type": "code",
   "execution_count": 6,
   "metadata": {},
   "outputs": [
    {
     "name": "stdout",
     "output_type": "stream",
     "text": [
      "(GaussianNB) Acurácia é: 0.435224\n"
     ]
    }
   ],
   "source": [
    "X_train, X_test, y_train, y_test = train_test_split(x, y, test_size=0.33, random_state = 5)\n",
    "\n",
    "perform = []\n",
    "performX = []\n",
    "\n",
    "\n",
    "model.fit(X_train, y_train)\n",
    "\n",
    "predicted = model.predict(X_test)\n",
    "\n",
    "print (\"(GaussianNB) Acurácia é: %f\" % accuracy_score(y_test, predicted))\n",
    "\n",
    "perform.append(accuracy_score(y_test, predicted))\n",
    "performX.append('GaussianNB')\n"
   ]
  },
  {
   "cell_type": "markdown",
   "metadata": {},
   "source": [
    "# Classificador MultinomialNB"
   ]
  },
  {
   "cell_type": "code",
   "execution_count": 7,
   "metadata": {},
   "outputs": [
    {
     "name": "stdout",
     "output_type": "stream",
     "text": [
      "(MultinomialNB) Acurácia é: 0.502260\n"
     ]
    }
   ],
   "source": [
    "modelMN.fit(X_train, y_train)\n",
    "\n",
    "predicted = modelMN.predict(X_test)\n",
    "\n",
    "print (\"(MultinomialNB) Acurácia é: %f\" % accuracy_score(y_test, predicted))\n",
    "\n",
    "perform.append(accuracy_score(y_test, predicted))\n",
    "performX.append('MultinomialNB')"
   ]
  },
  {
   "cell_type": "markdown",
   "metadata": {},
   "source": [
    "# Classificador BernoulliNB"
   ]
  },
  {
   "cell_type": "code",
   "execution_count": 8,
   "metadata": {},
   "outputs": [
    {
     "name": "stdout",
     "output_type": "stream",
     "text": [
      "(BernoulliNB) Acurácia é: 0.624714\n"
     ]
    }
   ],
   "source": [
    "modelB.fit(X_train, y_train)\n",
    "\n",
    "predicted = modelB.predict(X_test)\n",
    "\n",
    "print (\"(BernoulliNB) Acurácia é: %f\" % accuracy_score(y_test, predicted))\n",
    "\n",
    "perform.append(accuracy_score(y_test, predicted))\n",
    "performX.append('BernoulliNB')"
   ]
  },
  {
   "cell_type": "markdown",
   "metadata": {},
   "source": [
    "# Classificador KNeighborsClassifier"
   ]
  },
  {
   "cell_type": "code",
   "execution_count": 9,
   "metadata": {},
   "outputs": [
    {
     "name": "stdout",
     "output_type": "stream",
     "text": [
      "(KNeighborsClassifier) Acurácia é: 0.616693\n"
     ]
    }
   ],
   "source": [
    "neigh.fit(X_train, y_train)\n",
    "\n",
    "predicted = neigh.predict(X_test)\n",
    "\n",
    "print (\"(KNeighborsClassifier) Acurácia é: %f\" % accuracy_score(y_test, predicted))\n",
    "\n",
    "perform.append(accuracy_score(y_test, predicted))\n",
    "performX.append('KNeighborsClassifier')"
   ]
  },
  {
   "cell_type": "markdown",
   "metadata": {},
   "source": [
    "# Classificador LinearSVC (SVM)"
   ]
  },
  {
   "cell_type": "code",
   "execution_count": 10,
   "metadata": {},
   "outputs": [
    {
     "name": "stdout",
     "output_type": "stream",
     "text": [
      "(LinearSVC) Acurácia é: 0.484760\n"
     ]
    }
   ],
   "source": [
    "svm.fit(X_train, y_train)\n",
    "\n",
    "predicted = svm.predict(X_test)\n",
    "\n",
    "print (\"(LinearSVC) Acurácia é: %f\" % accuracy_score(y_test, predicted))\n",
    "\n",
    "perform.append(accuracy_score(y_test, predicted))\n",
    "performX.append('LinearSVC')"
   ]
  },
  {
   "cell_type": "markdown",
   "metadata": {},
   "source": [
    "# Desempenho dos Classificadores\n",
    "## Embora o Classificador BernoulliNB tenha apresentado o melhor desempenho, análises para verificar a diferença estatística entre os resultados dos Classificadores precisam ser realizadas."
   ]
  },
  {
   "cell_type": "code",
   "execution_count": 11,
   "metadata": {},
   "outputs": [
    {
     "data": {
      "image/png": "[encoded data removed]",
      "text/plain": [
       "<Figure size 432x288 with 1 Axes>"
      ]
     },
     "metadata": {},
     "output_type": "display_data"
    }
   ],
   "source": [
    "x = performX\n",
    "y = perform\n",
    "\n",
    "x_pos = [i for i, _ in enumerate(x)]\n",
    "\n",
    "plt.bar(x_pos, y, color='green')\n",
    "plt.xlabel(\"Classificadores\")\n",
    "plt.ylabel(\"Acurácia\")\n",
    "plt.title(\"Desempenho dos Classificadores\")\n",
    "\n",
    "plt.xticks(x_pos, x, rotation=90)\n",
    "\n",
    "plt.show()"
   ]
  }
 ],
 "metadata": {
  "kernelspec": {
   "display_name": "Python 3",
   "language": "python",
   "name": "python3"
  },
  "language_info": {
   "codemirror_mode": {
    "name": "ipython",
    "version": 3
   },
   "file_extension": ".py",
   "mimetype": "text/x-python",
   "name": "python",
   "nbconvert_exporter": "python",
   "pygments_lexer": "ipython3",
   "version": "3.6.5"
  }
 },
 "nbformat": 4,
 "nbformat_minor": 2
}
